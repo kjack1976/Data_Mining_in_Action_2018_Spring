{
 "cells": [
  {
   "cell_type": "code",
   "execution_count": 7,
   "metadata": {},
   "outputs": [
    {
     "name": "stdout",
     "output_type": "stream",
     "text": [
      "Symbolic loss:\n",
      " [y0*log(yh0) + (-y0 + 1)*log(-yh0 + 1), y1*log(yh1) + (-y1 + 1)*log(-yh1 + 1), y2*log(yh2) + (-y2 + 1)*log(-yh2 + 1)]\n",
      "Symbolic grad:\n",
      " [y0/yh0 - (-y0 + 1)/(-yh0 + 1), y1/yh1 - (-y1 + 1)/(-yh1 + 1), y2/yh2 - (-y2 + 1)/(-yh2 + 1)]\n"
     ]
    },
    {
     "data": {
      "text/plain": [
       "-1025.00000000000"
      ]
     },
     "execution_count": 7,
     "metadata": {},
     "output_type": "execute_result"
    }
   ],
   "source": [
    "# Символьное вычисление градиента функции потерь\n",
    "\n",
    "import sympy as sp\n",
    "num = 3\n",
    "Y = []\n",
    "Y_pred = []\n",
    "# Создаем списки символьных пременных\n",
    "for i in range(num):\n",
    "    Y.append(sp.Symbol('y'+str(i)))\n",
    "    Y_pred.append(sp.Symbol('yh'+str(i)))\n",
    "\n",
    "# Символьное вычисление loss\n",
    "def loss_sym(y_data, curr_pred):\n",
    "    return y_data*sp.log(curr_pred) + (1-y_data) *sp.log(1-curr_pred)\n",
    "\n",
    "#def loss_sym(y, y_pred):\n",
    "#    return sp.log(1.+sp.exp(-y*y_pred))\n",
    "\n",
    "# Попробуйте другую функциию вместо loss_sym\n",
    "# Например ту что ниже \n",
    "#def loss_sym(y, y_pred):\n",
    "#    return sp.cos(y+y_pred**2)\n",
    "\n",
    "# Вычисляем символьно loss для каждой пары из (Y, Y_pred)\n",
    "list_of_symbolic_losses = [loss_sym(y, y_pred) for y, y_pred in zip(Y, Y_pred)]\n",
    "print(\"Symbolic loss:\\n\", list_of_symbolic_losses)\n",
    "\n",
    "# Дифференцируем символьно каждый элемент из list_of_symbolic_losses по соответствующей переменной из Y_pred\n",
    "list_of_symbolic_diffs = [sp.diff(func, y_pred) for y_pred, func in zip(Y_pred, list_of_symbolic_losses)]\n",
    "print(\"Symbolic grad:\\n\", list_of_symbolic_diffs)\n",
    "\n",
    "# Подставляем числовые значения в градиент\n",
    "def loss_grad(grad_list, Y, Y_pred, Y_num, Y_pred_num):\n",
    "    from numpy import array\n",
    "    result = [grad.evalf(subs={y: y_num,\n",
    "                               y_pred: y_pred_num}\n",
    "                        ) \n",
    "              for grad, y, y_pred, y_num, y_pred_num \n",
    "              in zip(grad_list, Y, Y_pred, Y_num, Y_pred_num)]\n",
    "    return array(result)\n",
    "\n",
    "# Тут какбы спрятался один из ответов задания, не бейте сильно )))\n",
    "loss_grad(list_of_symbolic_diffs, Y, Y_pred, [-1,1,1],[-1,1,-1]).sum()"
   ]
  },
  {
   "cell_type": "code",
   "execution_count": null,
   "metadata": {
    "collapsed": true
   },
   "outputs": [],
   "source": []
  }
 ],
 "metadata": {
  "kernelspec": {
   "display_name": "Python 3",
   "language": "python",
   "name": "python3"
  },
  "language_info": {
   "codemirror_mode": {
    "name": "ipython",
    "version": 3
   },
   "file_extension": ".py",
   "mimetype": "text/x-python",
   "name": "python",
   "nbconvert_exporter": "python",
   "pygments_lexer": "ipython3",
   "version": "3.6.3"
  }
 },
 "nbformat": 4,
 "nbformat_minor": 2
}

{
 "cells": [
  {
   "cell_type": "markdown",
   "metadata": {},
   "source": [
    "# Решающие деревья"
   ]
  },
  {
   "cell_type": "markdown",
   "metadata": {},
   "source": [
    "**Примечание:**\n",
    "\n",
    "Для данного блокнота понадобятся pydotplus (питоновский модуль) и GraphViz\n",
    "\n",
    "conda install -c conda-forge graphviz\n",
    "\n",
    "conda install -c anaconda pydotplus"
   ]
  },
  {
   "cell_type": "code",
   "execution_count": null,
   "metadata": {
    "collapsed": true
   },
   "outputs": [],
   "source": [
    "import pydotplus \n",
    "import pandas as pd\n",
    "import numpy as np\n",
    "\n",
    "from IPython.display import Image\n",
    "from sklearn import tree\n",
    "from sklearn.datasets import load_iris\n",
    "from sklearn.model_selection import train_test_split\n",
    "from sklearn.metrics import accuracy_score, classification_report"
   ]
  },
  {
   "cell_type": "markdown",
   "metadata": {},
   "source": [
    "## Human resources analytics"
   ]
  },
  {
   "cell_type": "raw",
   "metadata": {},
   "source": [
    "https://www.kaggle.com/ludobenistant/hr-analytics-1/data\n",
    "\n",
    "This dataset is simulated\n",
    "\n",
    "Why are our best and most experienced employees leaving prematurely? Have fun with this database and try to predict which valuable employees will leave next. Fields in the dataset include:\n",
    "\n",
    "Last evaluation: \n",
    "Number of projects\n",
    "Average monthly hours\n",
    "Time spent at the company\n",
    "Whether they have had a work accident\n",
    "Whether they have had a promotion in the last 5 years\n",
    "Whether the employee has left"
   ]
  },
  {
   "cell_type": "markdown",
   "metadata": {},
   "source": [
    "## Данные"
   ]
  },
  {
   "cell_type": "code",
   "execution_count": null,
   "metadata": {},
   "outputs": [],
   "source": [
    "data = pd.read_csv('HR.csv')\n",
    "data[:5]"
   ]
  },
  {
   "cell_type": "code",
   "execution_count": null,
   "metadata": {},
   "outputs": [],
   "source": [
    "target = 'left'\n",
    "features = [c for c in data if c != target]\n",
    "print(features)"
   ]
  },
  {
   "cell_type": "markdown",
   "metadata": {},
   "source": [
    "## Строим дерево с помощью sklearn"
   ]
  },
  {
   "cell_type": "code",
   "execution_count": null,
   "metadata": {
    "scrolled": true
   },
   "outputs": [],
   "source": [
    "model = tree.DecisionTreeClassifier()\n",
    "model.fit(data[features], data[target])"
   ]
  },
  {
   "cell_type": "markdown",
   "metadata": {},
   "source": [
    "### основные параметры\n",
    "max_depth\n",
    "\n",
    "max_features"
   ]
  },
  {
   "cell_type": "code",
   "execution_count": null,
   "metadata": {},
   "outputs": [],
   "source": [
    "class_names = ['stayed', 'left']\n",
    "\n",
    "def plot_tree(model, out_file, max_depth):\n",
    "\n",
    "    dot_data = tree.export_graphviz(decision_tree=model, out_file=out_file,\n",
    "                                    max_depth=max_depth,\n",
    "                                    feature_names=features,\n",
    "                                    class_names=class_names,\n",
    "                                    filled=True, rounded=True,  \n",
    "                                    special_characters=True,\n",
    "                                    proportion = True, precision=2,\n",
    "                                    label='all', impurity=False,\n",
    "                                   )  \n",
    "\n",
    "    graph = pydotplus.graphviz.graph_from_dot_file(out_file)  \n",
    "    return Image(graph.create_png())\n",
    "    \n",
    "plot_tree(model, out_file=\"small_tree.out\", max_depth=2)"
   ]
  },
  {
   "cell_type": "code",
   "execution_count": null,
   "metadata": {
    "collapsed": true
   },
   "outputs": [],
   "source": []
  }
 ],
 "metadata": {
  "anaconda-cloud": {},
  "kernelspec": {
   "display_name": "Python 3",
   "language": "python",
   "name": "python3"
  },
  "language_info": {
   "codemirror_mode": {
    "name": "ipython",
    "version": 3
   },
   "file_extension": ".py",
   "mimetype": "text/x-python",
   "name": "python",
   "nbconvert_exporter": "python",
   "pygments_lexer": "ipython3",
   "version": "3.6.3"
  }
 },
 "nbformat": 4,
 "nbformat_minor": 1
}

{
 "cells": [
  {
   "cell_type": "markdown",
   "metadata": {},
   "source": [
    "### Входные данные\n",
    "\n",
    "У вас имеется поток данных (генератор data_stream). Поля это случайные величины - так сделано для упрощения генерации данных. Есть три поля (названы по уровню сложности задания)\n",
    "\n",
    "### Задание\n",
    "##### Мотивация:\n",
    "У вас есть куча временных рядов, вы хотите научиться предсказывать следующее значение по 1000 предыдущим. 1000 признаков окна это слишком много, однако вы решили заменить их 5ю: средним, дисперсией, минимумом, медианой и максимумом. Однако, все эти признаки надо подсчитать, причём хочется уметь это делать быстро (в течение часа)\n",
    "##### Для каждого поля нужно сделать следующее:\n",
    "\n",
    "1. Пробежаться по данным окном размера 1000 (окно сдвигается на 1, то есть следующее окно пересекается с предыдущим по 999 элементам).\n",
    "\n",
    "2. Для каждого окна посчитайте среднее значение поля и его дисперсию. Делайте yield этих значений, получая генератор tuple. \n",
    "\n",
    "3. Для каждого окна найдине минимум, медиану и максимум в нём. Делайте yield этих значений, получая генератор tuple. \n",
    "\n",
    "Ответом, который нужно будет засабмитить в гугл форму, является среднее значение tuple по получившемуся потоку, округлённое до 2го знака.\n",
    "\n",
    "### Замечания\n",
    "\n",
    "1. Обратите внимания как генерируются поля. Постарайтесь понять особенность каждого поля и как это можно использовать. Желательно, чтобы для каждого поля у вас было своё решение, максимально эффективно использующее знание об этом поле.\n",
    "2. Полезные библиотеки: itertools, numpy, collections + всё что найдёте в интернете и можно поставить через pip install\n",
    "3. **Медианой отсортированного массива arr считайте значение arr[len(arr) // 2]**\n",
    "\n",
    "\n",
    "\n",
    "Если измерять время работы функций временем работы функции example, то примерное время работы такое:\n",
    "Одновременно среднее, дисперсия - 1.17\n",
    "Одновременно минимум, максимум и медиана:easy - 0.87\n",
    "medium - 2.11\n",
    "nightmare - 2.85\n"
   ]
  },
  {
   "cell_type": "markdown",
   "metadata": {},
   "source": [
    "#### Генерация данных"
   ]
  },
  {
   "cell_type": "code",
   "execution_count": 61,
   "metadata": {
    "collapsed": true
   },
   "outputs": [],
   "source": [
    "from collections import namedtuple, deque\n",
    "import random\n",
    "from decimal import Decimal\n",
    "\n",
    "Record = namedtuple('Record', 'easy medium nightmare')\n",
    "\n",
    "def data_stream():\n",
    "    random_generator = random.Random(42)\n",
    "    easy = 0\n",
    "    for _ in range(10000000):\n",
    "        easy += random_generator.randint(0, 2) \n",
    "        medium = random_generator.randint(0, 256 - 1)\n",
    "        nightmare = random_generator.randint(0, 1000000000 - 1)\n",
    "        \n",
    "        yield Record(\n",
    "            easy=easy,\n",
    "            medium=medium,\n",
    "            nightmare=nightmare\n",
    "        )\n",
    "        \n",
    "def easy_stream():\n",
    "    for record in data_stream():\n",
    "        yield record.easy\n",
    "        \n",
    "def medium_stream():\n",
    "    for record in data_stream():\n",
    "        yield record.medium\n",
    "        \n",
    "def nightmare_stream():\n",
    "    for record in data_stream():\n",
    "        yield record.nightmare"
   ]
  },
  {
   "cell_type": "markdown",
   "metadata": {},
   "source": [
    "#### Подсчёт среднего значения tuple по потоку"
   ]
  },
  {
   "cell_type": "code",
   "execution_count": 62,
   "metadata": {
    "collapsed": true
   },
   "outputs": [],
   "source": [
    "import numpy as np\n",
    "\n",
    "def get_tuple_stream_mean(stream, number_of_values):\n",
    "    result = np.zeros(number_of_values, dtype=np.dtype(Decimal))\n",
    "    count = Decimal(0) \n",
    "    for streamed_tuple in stream:\n",
    "        result += streamed_tuple\n",
    "        count += 1\n",
    "    #return ['{:0.2f}'.format(x) for x in result / count]\n",
    "    return result / count"
   ]
  },
  {
   "cell_type": "code",
   "execution_count": 63,
   "metadata": {},
   "outputs": [
    {
     "name": "stdout",
     "output_type": "stream",
     "text": [
      "[Decimal('127.4812041') Decimal('137.4812041')]\n",
      "CPU times: user 1min 43s, sys: 8 ms, total: 1min 43s\n",
      "Wall time: 1min 43s\n"
     ]
    }
   ],
   "source": [
    "%%time\n",
    "def example(stream):\n",
    "    for value in stream:\n",
    "        yield (value, value + 10)\n",
    "print(get_tuple_stream_mean(example(medium_stream()), 2))"
   ]
  },
  {
   "cell_type": "code",
   "execution_count": 64,
   "metadata": {
    "collapsed": true
   },
   "outputs": [],
   "source": [
    "# Генератор среднего значения и дисперсии для всех потоков\n",
    "def MV_custom(stream, window_size): # оптимизированный расчет\n",
    "    window = deque(range(0, window_size), window_size) # создаем очередь для заполнения окна\n",
    "    gen = stream\n",
    "    count = 0 # счетчик для подсчета количества элементов в потоке и для отслеживания наполнения окна\n",
    "    X_0 = 0 # первое число в очереди, которое будет вытесняся следующим числом из потока\n",
    "    Mean_prev = 0 # первое значение среднего\n",
    "    Variance_prev = 0 # первое значение дисперсии\n",
    "# Будем уточнять сумму элементов в окне, после добавления нового элемента. \n",
    "# Для этого из предыдущей суммы (суммы элементов предыдущего окна) вычтем элемент очереди, который удалили\n",
    "# и добавим элемент, который добавили в очередь. Таким образом нам не нужно будет пересчитывать среднее и \n",
    "# использовать np.mean() на выборке из 1000 элементов\n",
    "    for number in gen:\n",
    "        count +=1\n",
    "        window.append(number)\n",
    "        if count < window_size: continue # если окно не заполнено, продолжаем его заполнять\n",
    "        \n",
    "        if count == window_size: # если окно только что заполнилось, то первый раз:\n",
    "            Variance = Decimal(np.var(window)) # считаем дисперсию первый раз\n",
    "            Mean = Decimal(np.mean(window)) # считаем среднее первый раз\n",
    "            X_0 = Decimal(window[0]) # запоминаем первое число в очереди, потом оно вытеснится новым число из потока\n",
    "                 \n",
    "            yield (Mean, Variance)\n",
    "            continue\n",
    "            \n",
    "\n",
    "# пересчитываем новое значение среднего для нового (текущего) окна. Не суммируя снова все элементы\n",
    "        Mean_prev = Mean # сохраняем пердыдущее значение среднего\n",
    "        Variance_prev = Variance # сохраняем предыдущее значение дисперсии\n",
    "        Mean = Mean_prev + Decimal(window[-1] - X_0)/ Decimal(window_size)\n",
    "        Variance = Variance_prev + (Decimal(window[-1]) - X_0) * (Decimal(window[-1]) + X_0 - Mean - Mean_prev) / Decimal(window_size)\n",
    "        \n",
    "        # расчет в лоб, с помощью Numpy\n",
    "        #Mean = np.mean(window)\n",
    "        #Variance = np.var(window)\n",
    "        \n",
    "            \n",
    "        #print(\"Window:\", window)\n",
    "        #print(\"X_0:\", X_0, \"\\tX_n:\", window[-1])\n",
    "        #print(\"Mean_prev:\", Mean_prev, \"\\tMean:\", Mean)\n",
    "        #print(\"Variance_prev:\", Variance_prev, \"\\tVariance:\", Variance, \"Real Variance:\", np.var(window), \"\\n\")\n",
    "        \n",
    "        \n",
    "        X_0 = window[0] # сохраняем значение самого левого элемента, перед тем как он будет вытеснен из очереди\n",
    "        yield (Mean, Variance)    "
   ]
  },
  {
   "cell_type": "code",
   "execution_count": 65,
   "metadata": {
    "collapsed": true
   },
   "outputs": [],
   "source": [
    "# Генератор минимума, медианы и максимума для потока easy\n",
    "def MMM_easy(window_size):\n",
    "    window = deque(range(0, window_size), window_size) # создаем очередь для заполнения окна\n",
    "    gen = easy_stream()\n",
    "    count = 0 # счетчик для подсчета количества элементов в потоке и для отслеживания наполнения окна\n",
    "    for d in gen:\n",
    "        count +=1\n",
    "        window.append(d)\n",
    "        if count >= window_size: # если окно заполнено, то начинаем считать статистики\n",
    "            easy_min = window[0]\n",
    "            easy_median = window[(len(window))//2]\n",
    "            easy_max = window[-1]\n",
    "            yield (easy_min, easy_median, easy_max)"
   ]
  },
  {
   "cell_type": "code",
   "execution_count": 66,
   "metadata": {
    "collapsed": true
   },
   "outputs": [],
   "source": [
    "# Расчет Min, Median, Max (МММ) для потоков medium и nightmare. Эти потоки не сортированы по возрастанию, поэтому\n",
    "# нужно включить сортировку и оптимизировать поиск медианы.\n",
    "\n",
    "def MMM_brute(stream, window_size):\n",
    "    window = deque(range(0, window_size), window_size) # создаем очередь для заполнения окна\n",
    "    gen = stream\n",
    "    count = 0 # счетчик для подсчета количества элементов в потоке и для отслеживания наполнения окна\n",
    "    Min = 0\n",
    "    Mean = 0\n",
    "    Max = 0\n",
    "    for d in stream:\n",
    "        window.append(d)\n",
    "        count += 1\n",
    "        if count < window_size: \n",
    "            continue\n",
    "        if count == window_size:\n",
    "            sort_list = np.sort(window)\n",
    "            Min = sort_list[0]\n",
    "            Mean = sort_list[len(sort_list) // 2]\n",
    "            Max = sort_list[-1]\n",
    "            yield (Min, Mean, Max)\n",
    "       \n",
    "        sort_list = np.sort(window)\n",
    "        Min = sort_list[0]\n",
    "        Mean = sort_list[len(sort_list) // 2]\n",
    "        Max = sort_list[-1]\n",
    "# Отладочный блок, можно удалить\n",
    "        #print(\"Window:\", window)\n",
    "        #print(\"Sorted window:\", sort_list)\n",
    "        #print(\"Min:\", Min, \"\\tMean:\", Mean, \"\\tMax:\", Max)\n",
    "        \n",
    "        yield (Min, Mean, Max)\n",
    "\n",
    "def MMM_custom(stream, window_size):\n",
    "# Суть метода - создаем \"зеркало\" \"окна\", в котором выполняем сортировку и хранием его все время отсортированным.\n",
    "# При поступлении из потока в \"окно\" нового значения, мы вставляем его в \"зеркало\" в соотвествии с ранжировкой,\n",
    "# в свою очередь вбывшее из \"окна\" значение удаляем из \"зеркала\", сохраняя упорядоченность элементов в \"зеркале\".\n",
    "# Таким образом, \"окно\" нам нужно только для того, что бы знать значение выбывшего и прибывшего элементов, \n",
    "# а минимум, максиммум, и медиану мы находим в \"зеркале\".\n",
    "    \n",
    "    window = deque(range(0, window_size), window_size) # создаем очередь для заполнения окна\n",
    "    gen = stream\n",
    "    count = 0 # счетчик для подсчета количества элементов в потоке и для отслеживания наполнения окна\n",
    "    Min = 0\n",
    "    Mean = 0\n",
    "    Max = 0\n",
    "    X_lost = 0 # значение, которое будет вытесняться из очереди следующим числом из потока\n",
    "    for d in stream:\n",
    "        window.append(d)\n",
    "        count += 1\n",
    "        if count < window_size: \n",
    "            continue\n",
    "        if count == window_size: # если окно заполнилось, делаем его сортировку и сохраняем в зеркале\n",
    "            mirrow = deque(np.sort(window), len(window)) # создаем массив для хранения \"зеркала\".\n",
    "            Min = mirrow[0]\n",
    "            Mean = mirrow[len(window) // 2]\n",
    "            Max = mirrow[-1]\n",
    "            X_lost = window[0] # сохраняем значение, которое будет вытесняться следующим числом из потока\n",
    "            yield (Min, Mean, Max)\n",
    "            continue\n",
    "        \n",
    "        mirrow.remove(X_lost)\n",
    "        if window[-1] >= mirrow[-1]: \n",
    "            mirrow.append(window[-1])\n",
    "        elif window[-1] <= mirrow[0]:\n",
    "            mirrow.appendleft(window[-1])\n",
    "        else:\n",
    "            for i, _ in enumerate(mirrow):\n",
    "                if mirrow[i] <= window[-1] <= mirrow[i+1]: \n",
    "                    mirrow.insert(i+1, window[-1])\n",
    "                    break \n",
    "        X_lost = window[0]\n",
    "        Min = mirrow[0]\n",
    "        Mean = mirrow[len(mirrow) // 2]\n",
    "        Max = mirrow[-1]\n",
    "        yield (Min, Mean, Max)"
   ]
  },
  {
   "cell_type": "code",
   "execution_count": 67,
   "metadata": {},
   "outputs": [
    {
     "name": "stdout",
     "output_type": "stream",
     "text": [
      "CPU times: user 2min 29s, sys: 38 ms, total: 2min 29s\n",
      "Wall time: 2min 29s\n"
     ]
    }
   ],
   "source": [
    "%%time\n",
    "stat_MV_easy = get_tuple_stream_mean(MV_custom(easy_stream(), 1000), 2)\n",
    "#print(easy_MV_custom(test_gen(100), 10))"
   ]
  },
  {
   "cell_type": "code",
   "execution_count": 81,
   "metadata": {},
   "outputs": [
    {
     "name": "stdout",
     "output_type": "stream",
     "text": [
      "Средние значения дисперсии и среднего арфиметического на потоке easy:\n",
      "\n",
      "Среднее значение mean -\t\t 4999675.276494780928603468009\n",
      "Среднее значение variance -\t 83439.33665582540527690643697\n",
      "Округленные значнения: ['4999675.28', '83439.34']\n",
      "<class 'decimal.Decimal'>\n"
     ]
    }
   ],
   "source": [
    "print('Средние значения дисперсии и среднего арфиметического на потоке easy:\\n')\n",
    "print('Среднее значение mean -\\t\\t', stat_MV_easy[0])\n",
    "print('Среднее значение variance -\\t', stat_MV_easy[1])\n",
    "print('Округленные значнения:', ['{:0.2f}'.format(x) for x in stat_MV_easy])\n",
    "print(type(stat[0]))"
   ]
  },
  {
   "cell_type": "code",
   "execution_count": 82,
   "metadata": {},
   "outputs": [
    {
     "name": "stdout",
     "output_type": "stream",
     "text": [
      "CPU times: user 2min, sys: 67 ms, total: 2min\n",
      "Wall time: 2min\n"
     ]
    }
   ],
   "source": [
    "%%time\n",
    "stat_MMM_easy = get_tuple_stream_mean(MMM_easy(1000), 3)"
   ]
  },
  {
   "cell_type": "code",
   "execution_count": 83,
   "metadata": {},
   "outputs": [
    {
     "name": "stdout",
     "output_type": "stream",
     "text": [
      "Средние значения Min, Median, Max на потоке easy:\n",
      "\n",
      "Среднее значение Min -\t\t 4999175.792842704986228124190\n",
      "Среднее значение Median -\t 4999675.776641486484499801530\n",
      "Среднее значение Max -\t 5000174.759596183658747508876\n",
      "Округленные значнения: ['4999175.79', '4999675.78', '5000174.76']\n",
      "<class 'decimal.Decimal'>\n"
     ]
    }
   ],
   "source": [
    "print('Средние значения Min, Median, Max на потоке easy:\\n')\n",
    "print('Среднее значение Min -\\t\\t', stat_MMM_easy[0])\n",
    "print('Среднее значение Median -\\t', stat_MMM_easy[1])\n",
    "print('Среднее значение Max -\\t', stat_MMM_easy[2])\n",
    "print('Округленные значнения:', ['{:0.2f}'.format(x) for x in stat_MMM_easy])\n",
    "print(type(stat[0]))"
   ]
  },
  {
   "cell_type": "code",
   "execution_count": 84,
   "metadata": {},
   "outputs": [
    {
     "name": "stdout",
     "output_type": "stream",
     "text": [
      "CPU times: user 2min 27s, sys: 5.94 ms, total: 2min 27s\n",
      "Wall time: 2min 27s\n"
     ]
    }
   ],
   "source": [
    "%%time\n",
    "stat_MV_medium = get_tuple_stream_mean(MV_custom(medium_stream(), 1000), 2)"
   ]
  },
  {
   "cell_type": "code",
   "execution_count": 85,
   "metadata": {},
   "outputs": [
    {
     "name": "stdout",
     "output_type": "stream",
     "text": [
      "Средние значения дисперсии и среднего арфиметического на потоке medium:\n",
      "\n",
      "Среднее значение mean -\t\t 127.4811399705830630668178652\n",
      "Среднее значение variance -\t 5455.173897874811454295545482\n",
      "Округленные значения: ['127.48', '5455.17']\n",
      "<class 'decimal.Decimal'>\n"
     ]
    }
   ],
   "source": [
    "print('Средние значения дисперсии и среднего арфиметического на потоке medium:\\n')\n",
    "print('Среднее значение mean -\\t\\t', stat_MV_medium[0])\n",
    "print('Среднее значение variance -\\t', stat_MV_medium[1])\n",
    "print('Округленные значения:', ['{:0.2f}'.format(x) for x in stat_MV_medium])\n",
    "print(type(stat[0]))"
   ]
  },
  {
   "cell_type": "code",
   "execution_count": 86,
   "metadata": {},
   "outputs": [
    {
     "name": "stdout",
     "output_type": "stream",
     "text": [
      "CPU times: user 23min 18s, sys: 70 ms, total: 23min 18s\n",
      "Wall time: 23min 18s\n"
     ]
    }
   ],
   "source": [
    "%%time\n",
    "stat_MMM_medium = get_tuple_stream_mean(MMM_brute(medium_stream(),1000), 3)"
   ]
  },
  {
   "cell_type": "code",
   "execution_count": 87,
   "metadata": {},
   "outputs": [
    {
     "name": "stdout",
     "output_type": "stream",
     "text": [
      "Средние значения Min, Median, Max на потоке medium:\n",
      "\n",
      "Среднее значение Min -\t\t 0.01928982512454742983349738304\n",
      "Среднее значение Median -\t 127.6017212517809277365881115\n",
      "Среднее значение Max -\t 254.9790132055179106874866112\n",
      "Округленные значения: ['0.02', '127.60', '254.98']\n",
      "<class 'decimal.Decimal'>\n"
     ]
    }
   ],
   "source": [
    "print('Средние значения Min, Median, Max на потоке medium:\\n')\n",
    "print('Среднее значение Min -\\t\\t', stat_MMM_medium[0])\n",
    "print('Среднее значение Median -\\t', stat_MMM_medium[1])\n",
    "print('Среднее значение Max -\\t', stat_MMM_medium[2])\n",
    "print('Округленные значения:', ['{:0.2f}'.format(x) for x in stat_MMM_medium])\n",
    "print(type(stat[0]))"
   ]
  },
  {
   "cell_type": "code",
   "execution_count": 88,
   "metadata": {},
   "outputs": [
    {
     "name": "stdout",
     "output_type": "stream",
     "text": [
      "CPU times: user 2min 42s, sys: 15 ms, total: 2min 42s\n",
      "Wall time: 2min 42s\n"
     ]
    }
   ],
   "source": [
    "%%time\n",
    "stat_MV_nightmare = get_tuple_stream_mean(MV_custom(nightmare_stream(), 1000), 2)"
   ]
  },
  {
   "cell_type": "code",
   "execution_count": 89,
   "metadata": {},
   "outputs": [
    {
     "name": "stdout",
     "output_type": "stream",
     "text": [
      "Средние значения дисперсии и среднего арфиметического на потоке nightmare:\n",
      "\n",
      "Среднее значение mean -\t\t 499880345.8782329037258453391\n",
      "Среднее значение variance -\t 83228908564031124.12107455168\n",
      "Округленные значения: ['499880345.88', '83228908564031124.12']\n",
      "<class 'decimal.Decimal'>\n"
     ]
    }
   ],
   "source": [
    "print('Средние значения дисперсии и среднего арфиметического на потоке nightmare:\\n')\n",
    "print('Среднее значение mean -\\t\\t', stat_MV_nightmare[0])\n",
    "print('Среднее значение variance -\\t', stat_MV_nightmare[1])\n",
    "print('Округленные значения:', ['{:0.2f}'.format(x) for x in stat_MV_nightmare])\n",
    "print(type(stat[0]))"
   ]
  },
  {
   "cell_type": "markdown",
   "metadata": {},
   "source": [
    "Поле **nightmare**. _Дисперсия_\n",
    "\n",
    "Правильные ответы\n",
    "\n",
    "83228908564031114.59\n",
    "\n",
    "83228908564031114.00"
   ]
  },
  {
   "cell_type": "code",
   "execution_count": 100,
   "metadata": {},
   "outputs": [
    {
     "name": "stdout",
     "output_type": "stream",
     "text": [
      "CPU times: user 29min 12s, sys: 508 ms, total: 29min 13s\n",
      "Wall time: 29min 14s\n"
     ]
    }
   ],
   "source": [
    "%%time\n",
    "stat_MMM_nightmare = get_tuple_stream_mean(MMM_custom(nightmare_stream(),1000), 3)"
   ]
  },
  {
   "cell_type": "code",
   "execution_count": 101,
   "metadata": {
    "scrolled": true
   },
   "outputs": [
    {
     "name": "stdout",
     "output_type": "stream",
     "text": [
      "Средние значения Min, Median, Max на потоке nightmare:\n",
      "\n",
      "Среднее значение Min -\t\t 1017525.922824723546200595993\n",
      "Среднее значение Median -\t 500438511.2309982199571038022\n",
      "Среднее значение Max -\t 999017352.9364254217342806720\n",
      "Округленные значения: ['1017525.92', '500438511.23', '999017352.94']\n",
      "<class 'decimal.Decimal'>\n"
     ]
    }
   ],
   "source": [
    "print('Средние значения Min, Median, Max на потоке nightmare:\\n')\n",
    "print('Среднее значение Min -\\t\\t', stat_MMM_nightmare[0])\n",
    "print('Среднее значение Median -\\t', stat_MMM_nightmare[1])\n",
    "print('Среднее значение Max -\\t', stat_MMM_nightmare[2])\n",
    "print('Округленные значения:', ['{:0.2f}'.format(x) for x in stat_MMM_nightmare])\n",
    "print(type(stat[0]))"
   ]
  },
  {
   "cell_type": "markdown",
   "metadata": {},
   "source": [
    "Поле nightmare. Минимум\n",
    "\n",
    "Правильный ответ\n",
    "\n",
    "1017512.29\n",
    "\n",
    "Поле nightmare. Медиана\n",
    "\n",
    "Правильный ответ\n",
    "\n",
    "500438415.64\n",
    "\n",
    "Поле nightmare. Максимум\n",
    "\n",
    "Правильный ответ\n",
    "\n",
    "999017359.97"
   ]
  },
  {
   "cell_type": "code",
   "execution_count": null,
   "metadata": {
    "collapsed": true
   },
   "outputs": [],
   "source": []
  }
 ],
 "metadata": {
  "kernelspec": {
   "display_name": "Python 3",
   "language": "python",
   "name": "python3"
  },
  "language_info": {
   "codemirror_mode": {
    "name": "ipython",
    "version": 3
   },
   "file_extension": ".py",
   "mimetype": "text/x-python",
   "name": "python",
   "nbconvert_exporter": "python",
   "pygments_lexer": "ipython3",
   "version": "3.6.3"
  }
 },
 "nbformat": 4,
 "nbformat_minor": 1
}

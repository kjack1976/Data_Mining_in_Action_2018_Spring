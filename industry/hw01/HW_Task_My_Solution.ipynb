{
 "cells": [
  {
   "cell_type": "markdown",
   "metadata": {},
   "source": [
    "### Входные данные\n",
    "\n",
    "У вас имеется поток данных (генератор data_stream). Поля это случайные величины - так сделано для упрощения генерации данных. Есть три поля (названы по уровню сложности задания)\n",
    "\n",
    "### Задание\n",
    "##### Мотивация:\n",
    "У вас есть куча временных рядов, вы хотите научиться предсказывать следующее значение по 1000 предыдущим. 1000 признаков окна это слишком много, однако вы решили заменить их 5ю: средним, дисперсией, минимумом, медианой и максимумом. Однако, все эти признаки надо подсчитать, причём хочется уметь это делать быстро (в течение часа)\n",
    "##### Для каждого поля нужно сделать следующее:\n",
    "\n",
    "1. Пробежаться по данным окном размера 1000 (окно сдвигается на 1, то есть следующее окно пересекается с предыдущим по 999 элементам).\n",
    "\n",
    "2. Для каждого окна посчитайте среднее значение поля и его дисперсию. Делайте yield этих значений, получая генератор tuple. \n",
    "\n",
    "3. Для каждого окна найдине минимум, медиану и максимум в нём. Делайте yield этих значений, получая генератор tuple. \n",
    "\n",
    "Ответом, который нужно будет засабмитить в гугл форму, является среднее значение tuple по получившемуся потоку, округлённое до 2го знака.\n",
    "\n",
    "### Замечания\n",
    "\n",
    "1. Обратите внимания как генерируются поля. Постарайтесь понять особенность каждого поля и как это можно использовать. Желательно, чтобы для каждого поля у вас было своё решение, максимально эффективно использующее знание об этом поле.\n",
    "2. Полезные библиотеки: itertools, numpy, collections + всё что найдёте в интернете и можно поставить через pip install\n",
    "3. **Медианой отсортированного массива arr считайте значение arr[len(arr) // 2]**\n",
    "\n",
    "\n",
    "\n",
    "Если измерять время работы функций временем работы функции example, то примерное время работы такое:\n",
    "Одновременно среднее, дисперсия - 1.17\n",
    "Одновременно минимум, максимум и медиана:easy - 0.87\n",
    "medium - 2.11\n",
    "nightmare - 2.85\n"
   ]
  },
  {
   "cell_type": "markdown",
   "metadata": {},
   "source": [
    "#### Генерация данных"
   ]
  },
  {
   "cell_type": "code",
   "execution_count": 196,
   "metadata": {
    "collapsed": true
   },
   "outputs": [],
   "source": [
    "from collections import namedtuple, deque\n",
    "import random, copy\n",
    "from decimal import Decimal\n",
    "\n",
    "Record = namedtuple('Record', 'easy medium nightmare')\n",
    "\n",
    "def data_stream():\n",
    "    random_generator = random.Random(42)\n",
    "    easy = 0\n",
    "    for _ in range(10000000):\n",
    "        easy += random_generator.randint(0, 2) \n",
    "        medium = random_generator.randint(0, 256 - 1)\n",
    "        nightmare = random_generator.randint(0, 1000000000 - 1)\n",
    "        \n",
    "        yield Record(\n",
    "            easy=easy,\n",
    "            medium=medium,\n",
    "            nightmare=nightmare\n",
    "        )\n",
    "        \n",
    "def easy_stream():\n",
    "    for record in data_stream():\n",
    "        yield record.easy\n",
    "        \n",
    "def medium_stream():\n",
    "    for record in data_stream():\n",
    "        yield record.medium\n",
    "        \n",
    "def nightmare_stream():\n",
    "    for record in data_stream():\n",
    "        yield record.nightmare"
   ]
  },
  {
   "cell_type": "markdown",
   "metadata": {},
   "source": [
    "#### Подсчёт среднего значения tuple по потоку"
   ]
  },
  {
   "cell_type": "code",
   "execution_count": 79,
   "metadata": {
    "collapsed": true
   },
   "outputs": [],
   "source": [
    "import numpy as np\n",
    "\n",
    "def get_tuple_stream_mean(stream, number_of_values):\n",
    "    result = np.zeros(number_of_values, dtype=np.dtype(Decimal))\n",
    "    count = Decimal(0) \n",
    "    for streamed_tuple in stream:\n",
    "        result += streamed_tuple\n",
    "        count += 1\n",
    "    #return ['{:0.2f}'.format(x) for x in result / count]\n",
    "    return result / count"
   ]
  },
  {
   "cell_type": "code",
   "execution_count": null,
   "metadata": {
    "collapsed": true,
    "scrolled": true
   },
   "outputs": [],
   "source": [
    "%%time\n",
    "def example(stream):\n",
    "    for value in stream:\n",
    "        yield (value, value + 10)\n",
    "print(get_tuple_stream_mean(example(medium_stream()), 2))"
   ]
  },
  {
   "cell_type": "code",
   "execution_count": 108,
   "metadata": {
    "collapsed": true
   },
   "outputs": [],
   "source": [
    "# Генератор среднего значения и дисперсии для потока easy\n",
    "def easy_MV(window_size): # расчет \"в лоб\", с помощью Numpy\n",
    "    window = deque(range(0, window_size), window_size) # создаем очередь для заполнения окна\n",
    "    gen = easy_stream()\n",
    "    count = 0 # счетчик для подсчета количества элементов в потоке и для отслеживания наполнения окна\n",
    "    mean = 0\n",
    "    variance = 0\n",
    "    for d in gen:\n",
    "        count +=1\n",
    "        window.append(d)\n",
    "        if count < window_size: \n",
    "            continue # если окно не заполнено, то продолжаем его заполнение\n",
    "        \n",
    "        mean = np.mean(window)\n",
    "        variance = np.var(window)\n",
    "        yield (mean, variance)\n",
    "\n",
    "def easy_MV_custom(window_size=1000): # оптимизированный расчет\n",
    "    window = deque(range(0, window_size), window_size) # создаем очередь для заполнения окна\n",
    "    gen = easy_stream()\n",
    "    count = 0 # счетчик для подсчета количества элементов в потоке и для отслеживания наполнения окна\n",
    "    n0 = 0 # первое число в очереди, которое будет вытесняся следующим числом из потока\n",
    "    summ = 0 # сумма элементов в окне\n",
    "    summ_square = 0 # сумма квадратов элементов в окне, для расчета дисперсии \n",
    "# Будем уточнять сумму элементов в окне, после добавления нового элемента. \n",
    "# Для этого из предыдущей суммы (суммы элементов предыдущего окна) вычтем элемент очереди, который удалили\n",
    "# и добавим элемент, который добавили в очередь. Таким образом нам не нужно будет пересчитывать среднее и \n",
    "# использовать np.mean() на выборке из 1000 элементов\n",
    "    for _ in gen:\n",
    "        count +=1\n",
    "        window.append(next(gen))\n",
    "        print(window[-1])\n",
    "        if count < window_size: continue # если окно не заполнено, продолжаем его заполнять\n",
    "        \n",
    "        if count == window_size: # если окно только что заполнилось, то первый раз:\n",
    "            summ = np.sum(window) # считаем сумму первый раз\n",
    "            variance = np.var(window) # считаем дисперсию первый раз\n",
    "            mean = np.mean(window) # считаем среднее первый раз\n",
    "            n0 = window[0] # запоминаем первое число в очереди, потом оно вытеснится новым число из потока\n",
    "            n0_power = window[0]**2\n",
    "            summ_square = np.sum(np.square(window))\n",
    "            yield (mean, variance)\n",
    "            continue\n",
    "\n",
    "# обновляем значение суммы, вычитаем самый элемент из предыдущего окна и \n",
    "# добавляем новый - самый правый в текущем окне \n",
    "        summ = summ - n0 + window[-1] \n",
    "        summ_square = summ_square - n0_power + window[-1]**2\n",
    "# пересчитываем новое значение среднего для нового (текущего) окна. Не суммируя снова все элементы\n",
    "        mean = summ / Decimal(window_size)\n",
    "        #mean = np.mean(window) # для проверки используем стандартную функцию np.mean()\n",
    "        #variance = np.var(window) # для проверки используем стандартную функцию np.var()\n",
    "        #variance = (summ_square - window_size * (mean**2)) / Decimal(window_size)\n",
    "        n0 = window[0]\n",
    "        n0_power = window[0]**2\n",
    "        yield (mean, variance)    "
   ]
  },
  {
   "cell_type": "code",
   "execution_count": 24,
   "metadata": {},
   "outputs": [
    {
     "name": "stdout",
     "output_type": "stream",
     "text": [
      "1007.954 340324.613884\n",
      "1009.974 340344.959324\n",
      "1011.997 340363.224991\n",
      "1014.021 340379.380559\n",
      "1016.045 340395.438975\n",
      "1018.07 340409.3811\n",
      "1020.095 340419.171975\n",
      "1022.12 340428.8616\n",
      "1024.146 340436.426684\n",
      "1026.173 340445.915071\n",
      "CPU times: user 19min 38s, sys: 107 ms, total: 19min 38s\n",
      "Wall time: 19min 38s\n"
     ]
    }
   ],
   "source": [
    "%%time\n",
    "stat = get_tuple_stream_mean(easy_MV(1000), 2)"
   ]
  },
  {
   "cell_type": "code",
   "execution_count": 25,
   "metadata": {},
   "outputs": [
    {
     "name": "stdout",
     "output_type": "stream",
     "text": [
      "Средние значения дисперсии и среднего арфиметического на потоке easy:\n",
      "\n",
      "Среднее значение mean -\t\t 4999675.76\n",
      "Среднее значение variance -\t 333535.65\n"
     ]
    }
   ],
   "source": [
    "print('Средние значения дисперсии и среднего арфиметического на потоке easy:\\n')\n",
    "print('Среднее значение mean -\\t\\t', stat[0])\n",
    "print('Среднее значение variance -\\t', stat[1])"
   ]
  },
  {
   "cell_type": "markdown",
   "metadata": {},
   "source": [
    "CPU times: user 1min 20s, sys: 49 ms, total: 1min 20s\n",
    "Wall time: 1min 20s"
   ]
  },
  {
   "cell_type": "code",
   "execution_count": null,
   "metadata": {
    "collapsed": true,
    "scrolled": false
   },
   "outputs": [],
   "source": [
    "print('Средние значения дисперсии и среднего арфиметического на потоке easy:\\n')\n",
    "print('Среднее значение mean -\\t\\t', stat[0])\n",
    "print('Среднее значение variance -\\t', stat[1])"
   ]
  },
  {
   "cell_type": "code",
   "execution_count": 98,
   "metadata": {
    "collapsed": true
   },
   "outputs": [],
   "source": [
    "# Генератор минимума, медианы и максимума для потока easy\n",
    "def MMM_easy(window_size):\n",
    "    window = deque(range(0, window_size), window_size) # создаем очередь для заполнения окна\n",
    "    gen = easy_stream()\n",
    "    count = 0 # счетчик для подсчета количества элементов в потоке и для отслеживания наполнения окна\n",
    "    for d in gen:\n",
    "        count +=1\n",
    "        window.append(d)\n",
    "        if count >= window_size: # если окно заполнено, то начинаем считать статистики\n",
    "            easy_min = window[0]\n",
    "            easy_median = window[(len(window))//2]\n",
    "            easy_max = window[-1]\n",
    "            yield (easy_min, easy_median, easy_max)"
   ]
  },
  {
   "cell_type": "code",
   "execution_count": 99,
   "metadata": {},
   "outputs": [
    {
     "name": "stdout",
     "output_type": "stream",
     "text": [
      "CPU times: user 1min 44s, sys: 20.3 ms, total: 1min 44s\n",
      "Wall time: 1min 44s\n"
     ]
    }
   ],
   "source": [
    "%%time\n",
    "stat = get_tuple_stream_mean(MMM_easy(1000), 3)"
   ]
  },
  {
   "cell_type": "code",
   "execution_count": 100,
   "metadata": {},
   "outputs": [
    {
     "name": "stdout",
     "output_type": "stream",
     "text": [
      "Средние значения минимума, медианы и максимума на потоке easy:\n",
      "\n",
      "Средний значение min -\t\t 4999175.792842704986228124190\n",
      "Среднее значение median -\t 4999675.776641486484499801530\n",
      "Среднее значение max -\t\t 5000174.759596183658747508876\n",
      "Округленные значнения: ['4999175.79', '4999675.78', '5000174.76']\n"
     ]
    }
   ],
   "source": [
    "print('Средние значения минимума, медианы и максимума на потоке easy:\\n')\n",
    "print('Средний значение min -\\t\\t', stat[0])\n",
    "print('Среднее значение median -\\t', stat[1])\n",
    "print('Среднее значение max -\\t\\t', stat[2])\n",
    "print('Округленные значнения:', ['{:0.2f}'.format(x) for x in stat])"
   ]
  },
  {
   "cell_type": "code",
   "execution_count": 42,
   "metadata": {
    "collapsed": true
   },
   "outputs": [],
   "source": [
    "def test_gen(size):\n",
    "    for i in range(1, size):\n",
    "        yield i*random.randint(0, 2)\n",
    "\n"
   ]
  },
  {
   "cell_type": "code",
   "execution_count": 71,
   "metadata": {},
   "outputs": [],
   "source": [
    "# Генератор среднего значения и дисперсии для всех потоков\n",
    "def MV_custom(stream, window_size): # оптимизированный расчет\n",
    "    window = deque(range(0, window_size), window_size) # создаем очередь для заполнения окна\n",
    "    gen = stream\n",
    "    count = 0 # счетчик для подсчета количества элементов в потоке и для отслеживания наполнения окна\n",
    "    X_0 = 0 # первое число в очереди, которое будет вытесняся следующим числом из потока\n",
    "    Mean_prev = 0 # первое значение среднего\n",
    "    Variance_prev = 0 # первое значение дисперсии\n",
    "# Будем уточнять сумму элементов в окне, после добавления нового элемента. \n",
    "# Для этого из предыдущей суммы (суммы элементов предыдущего окна) вычтем элемент очереди, который удалили\n",
    "# и добавим элемент, который добавили в очередь. Таким образом нам не нужно будет пересчитывать среднее и \n",
    "# использовать np.mean() на выборке из 1000 элементов\n",
    "    for number in gen:\n",
    "        count +=1\n",
    "        window.append(number)\n",
    "        if count < window_size: continue # если окно не заполнено, продолжаем его заполнять\n",
    "        \n",
    "        if count == window_size: # если окно только что заполнилось, то первый раз:\n",
    "            Variance = Decimal(np.var(window)) # считаем дисперсию первый раз\n",
    "            Mean = Decimal(np.mean(window)) # считаем среднее первый раз\n",
    "            X_0 = Decimal(window[0]) # запоминаем первое число в очереди, потом оно вытеснится новым число из потока\n",
    "                 \n",
    "            yield (Mean, Variance)\n",
    "            continue\n",
    "            \n",
    "\n",
    "# пересчитываем новое значение среднего для нового (текущего) окна. Не суммируя снова все элементы\n",
    "        Mean_prev = Mean # сохраняем пердыдущее значение среднего\n",
    "        Variance_prev = Variance # сохраняем предыдущее значение дисперсии\n",
    "        Mean = Mean_prev + Decimal(window[-1] - X_0)/ Decimal(window_size)\n",
    "        Variance = Variance_prev + (Decimal(window[-1]) - X_0) * (Decimal(window[-1]) + X_0 - Mean - Mean_prev) / Decimal(window_size)\n",
    "        \n",
    "        # расчет в лоб, с помощью Numpy\n",
    "        #Mean = np.mean(window)\n",
    "        #Variance = np.var(window)\n",
    "        \n",
    "            \n",
    "        #print(\"Window:\", window)\n",
    "        #print(\"X_0:\", X_0, \"\\tX_n:\", window[-1])\n",
    "        #print(\"Mean_prev:\", Mean_prev, \"\\tMean:\", Mean)\n",
    "        #print(\"Variance_prev:\", Variance_prev, \"\\tVariance:\", Variance, \"Real Variance:\", np.var(window), \"\\n\")\n",
    "        \n",
    "        \n",
    "        X_0 = window[0] # сохраняем значение самого левого элемента, перед тем как он будет вытеснен из очереди\n",
    "        yield (Mean, Variance)    \n",
    "    "
   ]
  },
  {
   "cell_type": "code",
   "execution_count": 96,
   "metadata": {},
   "outputs": [
    {
     "name": "stdout",
     "output_type": "stream",
     "text": [
      "CPU times: user 2min 24s, sys: 13.8 ms, total: 2min 24s\n",
      "Wall time: 2min 24s\n"
     ]
    }
   ],
   "source": [
    "%%time\n",
    "stat = get_tuple_stream_mean(MV_custom(easy_stream(), 1000), 2)\n",
    "#stat = MV_custom(test_gen(100), 10)\n"
   ]
  },
  {
   "cell_type": "code",
   "execution_count": 97,
   "metadata": {},
   "outputs": [
    {
     "name": "stdout",
     "output_type": "stream",
     "text": [
      "Средние значения дисперсии и среднего арфиметического на потоке easy:\n",
      "\n",
      "Среднее значение mean -\t\t 4999675.276494780928603468009\n",
      "Среднее значение variance -\t 83439.33665582540527690643697\n",
      "Округленные значнения: ['4999675.28', '83439.34']\n",
      "<class 'decimal.Decimal'>\n"
     ]
    }
   ],
   "source": [
    "print('Средние значения дисперсии и среднего арфиметического на потоке easy:\\n')\n",
    "print('Среднее значение mean -\\t\\t', stat[0])\n",
    "print('Среднее значение variance -\\t', stat[1])\n",
    "print('Округленные значнения:', ['{:0.2f}'.format(x) for x in stat])\n",
    "print(type(stat[0]))"
   ]
  },
  {
   "cell_type": "markdown",
   "metadata": {},
   "source": [
    "Средние значения дисперсии и среднего арфиметического на потоке easy до использования типа Decimal:\n",
    "\n",
    "Среднее значение mean -\t\t 4999675.28\n",
    "Среднее значение variance -\t 83444.67"
   ]
  },
  {
   "cell_type": "code",
   "execution_count": 313,
   "metadata": {
    "collapsed": true
   },
   "outputs": [],
   "source": [
    "# Расчет Min, Median, Max (МММ) для потоков medium и nightmare. Эти потоки не сортированы по возрастанию, поэтому\n",
    "# нужно включить сортировку и оптимизировать поиск медианы.\n",
    "\n",
    "def MMM_brute(stream, window_size):\n",
    "    window = deque(range(0, window_size), window_size) # создаем очередь для заполнения окна\n",
    "    gen = stream\n",
    "    count = 0 # счетчик для подсчета количества элементов в потоке и для отслеживания наполнения окна\n",
    "    Min = 0\n",
    "    Mean = 0\n",
    "    Max = 0\n",
    "    for d in stream:\n",
    "        window.append(d)\n",
    "        count += 1\n",
    "        if count < window_size: \n",
    "            continue\n",
    "        if count == window_size:\n",
    "            sort_list = np.sort(window)\n",
    "            Min = sort_list[0]\n",
    "            Mean = sort_list[len(sort_list) // 2]\n",
    "            Max = sort_list[-1]\n",
    "            yield (Min, Mean, Max)\n",
    "               \n",
    "        sort_list = np.sort(window)\n",
    "        Min = sort_list[0]\n",
    "        Mean = sort_list[len(sort_list) // 2]\n",
    "        Max = sort_list[-1]\n",
    "# Отладочный блок, можно удалить\n",
    "        #print(\"Window:\", window)\n",
    "        #print(\"Sorted window:\", sort_list)\n",
    "        #print(\"Min:\", Min, \"\\tMean:\", Mean, \"\\tMax:\", Max)\n",
    "        \n",
    "        yield (Min, Mean, Max)\n",
    "        \n",
    "def MMM_custom(stream, window_size):\n",
    "# Суть метода - создаем \"зеркало\" \"окна\", в котором выполняем сортировку и хранием его все время отсортированным.\n",
    "# При поступлении из потока в \"окно\" нового значения, мы вставляем его в \"зеркало\" в соотвествии с ранжировкой,\n",
    "# в свою очередь вбывшее из \"окна\" значение удаляем из \"зеркала\", сохраняя упорядоченность элементов в \"зеркале\".\n",
    "# Таким образом, \"окно\" нам нужно только для того, что бы знать значение выбывшего и прибывшего элементов, \n",
    "# а минимум, максиммум, и медиану мы находим в \"зеркале\".\n",
    "    \n",
    "    window = deque(range(0, window_size), window_size) # создаем очередь для заполнения окна\n",
    "    gen = stream\n",
    "    count = 0 # счетчик для подсчета количества элементов в потоке и для отслеживания наполнения окна\n",
    "    Min = 0\n",
    "    Mean = 0\n",
    "    Max = 0\n",
    "    X_lost = 0 # значение, которое будет вытесняться из очереди следующим числом из потока\n",
    "    for d in stream:\n",
    "        window.append(d)\n",
    "        count += 1\n",
    "        if count < window_size: \n",
    "            continue\n",
    "        if count == window_size: # если окно заполнилось, делаем его сортировку и сохраняем в зеркале\n",
    "            mirrow = deque(np.sort(window), len(window)) # создаем массив для хранения \"зеркала\".\n",
    "            Min = mirrow[0]\n",
    "            Mean = mirrow[len(window) // 2]\n",
    "            Max = mirrow[-1]\n",
    "            X_lost = window[0] # сохраняем значение, которое будет вытесняться следующим числом из потока\n",
    "            yield (Min, Mean, Max)\n",
    "            continue\n",
    "        \n",
    "        mirrow.remove(X_lost)\n",
    "        if window[-1] >= mirrow[-1]: \n",
    "            mirrow.append(window[-1])\n",
    "        elif window[-1] <= mirrow[0]:\n",
    "            mirrow.appendleft(window[-1])\n",
    "        else:\n",
    "            for i, _ in enumerate(mirrow):\n",
    "                if mirrow[i] <= window[-1] <= mirrow[i+1]: \n",
    "                    mirrow.insert(i+1, window[-1])\n",
    "                    break \n",
    "        X_lost = window[0]\n",
    "        Min = mirrow[0]\n",
    "        Mean = mirrow[len(mirrow) // 2]\n",
    "        Max = mirrow[-1]\n",
    "        yield (Min, Mean, Max)"
   ]
  },
  {
   "cell_type": "code",
   "execution_count": 316,
   "metadata": {},
   "outputs": [
    {
     "name": "stdout",
     "output_type": "stream",
     "text": [
      "CPU times: user 19min 21s, sys: 208 ms, total: 19min 21s\n",
      "Wall time: 19min 21s\n"
     ]
    }
   ],
   "source": [
    "%%time\n",
    "stat = get_tuple_stream_mean(MMM_custom(nightmare_stream(),1000), 3)"
   ]
  },
  {
   "cell_type": "code",
   "execution_count": 317,
   "metadata": {},
   "outputs": [
    {
     "name": "stdout",
     "output_type": "stream",
     "text": [
      "Средние значения Min, Median, Max на потоке nightmare:\n",
      "\n",
      "Среднее значение Min -\t\t 1017512.293608431482305082278\n",
      "Среднее значение Mean -\t 500438415.6358754239548530898\n",
      "Среднее значение Max -\t 999017359.9740516077556147859\n",
      "Округленные значнения: ['1017512.29', '500438415.64', '999017359.97']\n",
      "<class 'decimal.Decimal'>\n"
     ]
    }
   ],
   "source": [
    "print('Средние значения Min, Median, Max на потоке nightmare:\\n')\n",
    "print('Среднее значение Min -\\t\\t', stat[0])\n",
    "print('Среднее значение Mean -\\t', stat[1])\n",
    "print('Среднее значение Max -\\t', stat[2])\n",
    "print('Округленные значнения:', ['{:0.2f}'.format(x) for x in stat])\n",
    "print(type(stat[0]))"
   ]
  },
  {
   "cell_type": "code",
   "execution_count": 177,
   "metadata": {},
   "outputs": [
    {
     "ename": "KeyboardInterrupt",
     "evalue": "",
     "output_type": "error",
     "traceback": [
      "\u001b[0;31m---------------------------------------------------------------------------\u001b[0m",
      "\u001b[0;31mKeyboardInterrupt\u001b[0m                         Traceback (most recent call last)",
      "\u001b[0;32m<timed exec>\u001b[0m in \u001b[0;36m<module>\u001b[0;34m()\u001b[0m\n",
      "\u001b[0;32m<ipython-input-79-3d307f35949d>\u001b[0m in \u001b[0;36mget_tuple_stream_mean\u001b[0;34m(stream, number_of_values)\u001b[0m\n\u001b[1;32m      4\u001b[0m     \u001b[0mresult\u001b[0m \u001b[0;34m=\u001b[0m \u001b[0mnp\u001b[0m\u001b[0;34m.\u001b[0m\u001b[0mzeros\u001b[0m\u001b[0;34m(\u001b[0m\u001b[0mnumber_of_values\u001b[0m\u001b[0;34m,\u001b[0m \u001b[0mdtype\u001b[0m\u001b[0;34m=\u001b[0m\u001b[0mnp\u001b[0m\u001b[0;34m.\u001b[0m\u001b[0mdtype\u001b[0m\u001b[0;34m(\u001b[0m\u001b[0mDecimal\u001b[0m\u001b[0;34m)\u001b[0m\u001b[0;34m)\u001b[0m\u001b[0;34m\u001b[0m\u001b[0m\n\u001b[1;32m      5\u001b[0m     \u001b[0mcount\u001b[0m \u001b[0;34m=\u001b[0m \u001b[0mDecimal\u001b[0m\u001b[0;34m(\u001b[0m\u001b[0;36m0\u001b[0m\u001b[0;34m)\u001b[0m\u001b[0;34m\u001b[0m\u001b[0m\n\u001b[0;32m----> 6\u001b[0;31m     \u001b[0;32mfor\u001b[0m \u001b[0mstreamed_tuple\u001b[0m \u001b[0;32min\u001b[0m \u001b[0mstream\u001b[0m\u001b[0;34m:\u001b[0m\u001b[0;34m\u001b[0m\u001b[0m\n\u001b[0m\u001b[1;32m      7\u001b[0m         \u001b[0mresult\u001b[0m \u001b[0;34m+=\u001b[0m \u001b[0mstreamed_tuple\u001b[0m\u001b[0;34m\u001b[0m\u001b[0m\n\u001b[1;32m      8\u001b[0m         \u001b[0mcount\u001b[0m \u001b[0;34m+=\u001b[0m \u001b[0;36m1\u001b[0m\u001b[0;34m\u001b[0m\u001b[0m\n",
      "\u001b[0;32m<ipython-input-176-c124ec0b9608>\u001b[0m in \u001b[0;36mMMM_custom\u001b[0;34m(stream, window_size)\u001b[0m\n\u001b[1;32m     56\u001b[0m             \u001b[0mMin\u001b[0m \u001b[0;34m=\u001b[0m \u001b[0mwindow\u001b[0m\u001b[0;34m[\u001b[0m\u001b[0;34m-\u001b[0m\u001b[0;36m1\u001b[0m\u001b[0;34m]\u001b[0m\u001b[0;34m\u001b[0m\u001b[0m\n\u001b[1;32m     57\u001b[0m \u001b[0;34m\u001b[0m\u001b[0m\n\u001b[0;32m---> 58\u001b[0;31m         \u001b[0msort_list\u001b[0m \u001b[0;34m=\u001b[0m \u001b[0mnp\u001b[0m\u001b[0;34m.\u001b[0m\u001b[0msort\u001b[0m\u001b[0;34m(\u001b[0m\u001b[0mwindow\u001b[0m\u001b[0;34m)\u001b[0m\u001b[0;34m\u001b[0m\u001b[0m\n\u001b[0m\u001b[1;32m     59\u001b[0m         \u001b[0mMin\u001b[0m \u001b[0;34m=\u001b[0m \u001b[0msort_list\u001b[0m\u001b[0;34m[\u001b[0m\u001b[0;36m0\u001b[0m\u001b[0;34m]\u001b[0m\u001b[0;34m\u001b[0m\u001b[0m\n\u001b[1;32m     60\u001b[0m         \u001b[0mMean\u001b[0m \u001b[0;34m=\u001b[0m \u001b[0msort_list\u001b[0m\u001b[0;34m[\u001b[0m\u001b[0mlen\u001b[0m\u001b[0;34m(\u001b[0m\u001b[0msort_list\u001b[0m\u001b[0;34m)\u001b[0m \u001b[0;34m//\u001b[0m \u001b[0;36m2\u001b[0m\u001b[0;34m]\u001b[0m\u001b[0;34m\u001b[0m\u001b[0m\n",
      "\u001b[0;32m~/anaconda3/lib/python3.6/site-packages/numpy/core/fromnumeric.py\u001b[0m in \u001b[0;36msort\u001b[0;34m(a, axis, kind, order)\u001b[0m\n\u001b[1;32m    819\u001b[0m         \u001b[0maxis\u001b[0m \u001b[0;34m=\u001b[0m \u001b[0;36m0\u001b[0m\u001b[0;34m\u001b[0m\u001b[0m\n\u001b[1;32m    820\u001b[0m     \u001b[0;32melse\u001b[0m\u001b[0;34m:\u001b[0m\u001b[0;34m\u001b[0m\u001b[0m\n\u001b[0;32m--> 821\u001b[0;31m         \u001b[0ma\u001b[0m \u001b[0;34m=\u001b[0m \u001b[0masanyarray\u001b[0m\u001b[0;34m(\u001b[0m\u001b[0ma\u001b[0m\u001b[0;34m)\u001b[0m\u001b[0;34m.\u001b[0m\u001b[0mcopy\u001b[0m\u001b[0;34m(\u001b[0m\u001b[0morder\u001b[0m\u001b[0;34m=\u001b[0m\u001b[0;34m\"K\"\u001b[0m\u001b[0;34m)\u001b[0m\u001b[0;34m\u001b[0m\u001b[0m\n\u001b[0m\u001b[1;32m    822\u001b[0m     \u001b[0ma\u001b[0m\u001b[0;34m.\u001b[0m\u001b[0msort\u001b[0m\u001b[0;34m(\u001b[0m\u001b[0maxis\u001b[0m\u001b[0;34m=\u001b[0m\u001b[0maxis\u001b[0m\u001b[0;34m,\u001b[0m \u001b[0mkind\u001b[0m\u001b[0;34m=\u001b[0m\u001b[0mkind\u001b[0m\u001b[0;34m,\u001b[0m \u001b[0morder\u001b[0m\u001b[0;34m=\u001b[0m\u001b[0morder\u001b[0m\u001b[0;34m)\u001b[0m\u001b[0;34m\u001b[0m\u001b[0m\n\u001b[1;32m    823\u001b[0m     \u001b[0;32mreturn\u001b[0m \u001b[0ma\u001b[0m\u001b[0;34m\u001b[0m\u001b[0m\n",
      "\u001b[0;32m~/anaconda3/lib/python3.6/site-packages/numpy/core/numeric.py\u001b[0m in \u001b[0;36masanyarray\u001b[0;34m(a, dtype, order)\u001b[0m\n\u001b[1;32m    581\u001b[0m \u001b[0;34m\u001b[0m\u001b[0m\n\u001b[1;32m    582\u001b[0m     \"\"\"\n\u001b[0;32m--> 583\u001b[0;31m     \u001b[0;32mreturn\u001b[0m \u001b[0marray\u001b[0m\u001b[0;34m(\u001b[0m\u001b[0ma\u001b[0m\u001b[0;34m,\u001b[0m \u001b[0mdtype\u001b[0m\u001b[0;34m,\u001b[0m \u001b[0mcopy\u001b[0m\u001b[0;34m=\u001b[0m\u001b[0;32mFalse\u001b[0m\u001b[0;34m,\u001b[0m \u001b[0morder\u001b[0m\u001b[0;34m=\u001b[0m\u001b[0morder\u001b[0m\u001b[0;34m,\u001b[0m \u001b[0msubok\u001b[0m\u001b[0;34m=\u001b[0m\u001b[0;32mTrue\u001b[0m\u001b[0;34m)\u001b[0m\u001b[0;34m\u001b[0m\u001b[0m\n\u001b[0m\u001b[1;32m    584\u001b[0m \u001b[0;34m\u001b[0m\u001b[0m\n\u001b[1;32m    585\u001b[0m \u001b[0;34m\u001b[0m\u001b[0m\n",
      "\u001b[0;31mKeyboardInterrupt\u001b[0m: "
     ]
    }
   ],
   "source": [
    "%%time\n",
    "stat = get_tuple_stream_mean(MMM_custom(easy_stream(),1000), 3)"
   ]
  },
  {
   "cell_type": "code",
   "execution_count": null,
   "metadata": {},
   "outputs": [],
   "source": [
    "print('Средние значения (MMM_custom) Min, Median, Max на потоке medium:\\n')\n",
    "print('Среднее значение Min -\\t\\t', stat[0])\n",
    "print('Среднее значение Mean -\\t', stat[1])\n",
    "print('Среднее значение Max -\\t', stat[2])\n",
    "print('Округленные значения:', ['{:0.2f}'.format(x) for x in stat])\n",
    "print(type(stat[0]))"
   ]
  },
  {
   "cell_type": "code",
   "execution_count": 182,
   "metadata": {},
   "outputs": [
    {
     "name": "stdout",
     "output_type": "stream",
     "text": [
      "(0, 0, 2)\n",
      "(0, 0, 2)\n",
      "(0, 0, 6)\n",
      "(0, 0, 6)\n",
      "(0, 0, 6)\n",
      "(0, 0, 18)\n",
      "(0, 0, 18)\n",
      "(0, 0, 18)\n",
      "(0, 11, 18)\n",
      "(0, 12, 18)\n",
      "(0, 11, 13)\n"
     ]
    }
   ],
   "source": [
    "\n",
    "for d in MMM_custom(test_gen(15), 5):\n",
    "    print(d)\n",
    "    #print(\"Window:\", d[0])\n",
    "    #print(\"Sorted window:\", d[1])\n",
    "    #print(\"Min:\", d[2], \"\\tMean:\", d[3], \"\\tMax:\", d[4])\n",
    "\n"
   ]
  },
  {
   "cell_type": "code",
   "execution_count": 166,
   "metadata": {},
   "outputs": [
    {
     "name": "stdout",
     "output_type": "stream",
     "text": [
      "<class 'tuple'>\n",
      "3\n",
      "(0, 1, 4)\n"
     ]
    }
   ],
   "source": [
    "d = next(MMM_custom(test_gen(15), 5))\n",
    "print(type(d))\n",
    "print(len(d))\n",
    "print(d)"
   ]
  },
  {
   "cell_type": "markdown",
   "metadata": {},
   "source": [
    "###### print('Средние значения дисперсии и среднего арфиметического на потоке easy:\\n')\n",
    "print('Среднее значение mean -\\t\\t', stat[0])\n",
    "print('Среднее значение variance -\\t', stat[1])"
   ]
  },
  {
   "cell_type": "code",
   "execution_count": null,
   "metadata": {},
   "outputs": [],
   "source": [
    "%%time\n",
    "stat = get_tuple_stream_mean(MV_custom(easy_stream(), 1000), 2)"
   ]
  },
  {
   "cell_type": "code",
   "execution_count": 27,
   "metadata": {},
   "outputs": [
    {
     "name": "stdout",
     "output_type": "stream",
     "text": [
      "Средние значения дисперсии и среднего арфиметического на потоке easy:\n",
      "\n",
      "Среднее значение mean -\t\t 4999675.28\n",
      "Среднее значение variance -\t 83444.67\n"
     ]
    }
   ],
   "source": [
    "print('Средние значения дисперсии и среднего арфиметического на потоке easy:\\n')\n",
    "print('Среднее значение mean -\\t\\t', stat[0])\n",
    "print('Среднее значение variance -\\t', stat[1])"
   ]
  },
  {
   "cell_type": "markdown",
   "metadata": {},
   "source": [
    "CPU times: user 18min 41s, sys: 140 ms, total: 18min 41s\n",
    "Wall time: 18min 42s\n",
    "\n",
    "Cредние значения дисперсии и среднего арфиметического на потоке medium:\n",
    "\n",
    "Среднее значение mean -\t\t 4999674.76\n",
    "Среднее значение variance -\t 333535.65"
   ]
  },
  {
   "cell_type": "code",
   "execution_count": 307,
   "metadata": {},
   "outputs": [
    {
     "name": "stdout",
     "output_type": "stream",
     "text": [
      "Исходное окно deque([15, 18, 16, 14, 11], maxlen=5)\n",
      "Сортированное зеркало окна deque([11, 14, 15, 16, 18], maxlen=5)\n",
      "Окно с новым элементом deque([18, 16, 14, 11, 7], maxlen=5)\n",
      "Элемент окна, который был вытеснен 15\n",
      "Новый элемент окна, который зашел из потока: 7\n",
      "Зеркало с удаленным элементом, который был вытеснен из окна: deque([11, 14, 16, 18], maxlen=5)\n",
      "Зеркало с новым элементом deque([7, 11, 14, 16, 18], maxlen=5)\n"
     ]
    }
   ],
   "source": [
    "window = deque(range(5), 5)\n",
    "#print(window)\n",
    "for _ in range(5):\n",
    "    window.append(random.randint(1,20))\n",
    "print(\"Исходное окно\", window)\n",
    "mirrow = deque(np.sort(window), len(window))\n",
    "\n",
    "print(\"Сортированное зеркало окна\", mirrow)\n",
    "X_lost = window[0]\n",
    "window.append(random.randint(1, 20))\n",
    "print(\"Окно с новым элементом\", window)\n",
    "print(\"Элемент окна, который был вытеснен\", X_lost)\n",
    "print(\"Новый элемент окна, который зашел из потока:\", window[-1])\n",
    "mirrow.remove(X_lost)\n",
    "print(\"Зеркало с удаленным элементом, который был вытеснен из окна:\", mirrow)\n",
    "if window[-1] >= mirrow[-1]: \n",
    "    mirrow.append(window[-1])\n",
    "elif window[-1] <= mirrow[0]:\n",
    "    mirrow.appendleft(window[-1])\n",
    "else:\n",
    "    for i, _ in enumerate(mirrow):\n",
    "        if mirrow[i] <= window[-1] <= mirrow[i+1]: \n",
    "            mirrow.insert(i+1, window[-1])\n",
    "            break\n",
    "print(\"Зеркало с новым элементом\", mirrow)"
   ]
  },
  {
   "cell_type": "code",
   "execution_count": 304,
   "metadata": {},
   "outputs": [
    {
     "data": {
      "text/plain": [
       "4"
      ]
     },
     "execution_count": 304,
     "metadata": {},
     "output_type": "execute_result"
    }
   ],
   "source": [
    "window[-1]"
   ]
  },
  {
   "cell_type": "code",
   "execution_count": 31,
   "metadata": {},
   "outputs": [
    {
     "name": "stdout",
     "output_type": "stream",
     "text": [
      "deque([1, 2, 3, 4, 5, 6, 7, 8, 9, 10, 11, 12, 13, 14, 15], maxlen=15)\n",
      "deque([2, 3, 4, 5, 6, 7, 8, 9, 10, 11, 12, 13, 14, 15, 32], maxlen=15)\n",
      "49.5288888889 481.6\n",
      "10.0666666667 10.0666666667\n",
      "deque([3, 4, 5, 6, 7, 8, 9, 10, 11, 12, 13, 14, 15, 32, 34], maxlen=15)\n",
      "78.8266666667 507.066666667\n",
      "12.2 10.2\n",
      "deque([4, 5, 6, 7, 8, 9, 10, 11, 12, 13, 14, 15, 32, 34, 36], maxlen=15)\n",
      "106.106666667 529.666666667\n",
      "14.4 10.3333333333\n",
      "deque([5, 6, 7, 8, 9, 10, 11, 12, 13, 14, 15, 32, 34, 36, 38], maxlen=15)\n",
      "130.888888889 549.0\n",
      "16.6666666667 10.4666666667\n",
      "deque([6, 7, 8, 9, 10, 11, 12, 13, 14, 15, 32, 34, 36, 38, 40], maxlen=15)\n",
      "152.666666667 564.666666667\n",
      "19.0 10.6\n",
      "deque([7, 8, 9, 10, 11, 12, 13, 14, 15, 32, 34, 36, 38, 40, 42], maxlen=15)\n",
      "170.906666667 576.266666667\n",
      "21.4 10.7333333333\n",
      "deque([8, 9, 10, 11, 12, 13, 14, 15, 32, 34, 36, 38, 40, 42, 44], maxlen=15)\n",
      "185.048888889 583.4\n",
      "23.8666666667 10.8666666667\n",
      "deque([9, 10, 11, 12, 13, 14, 15, 32, 34, 36, 38, 40, 42, 44, 46], maxlen=15)\n",
      "194.506666667 585.666666667\n",
      "26.4 11.0\n",
      "deque([10, 11, 12, 13, 14, 15, 32, 34, 36, 38, 40, 42, 44, 46, 48], maxlen=15)\n",
      "198.666666667 582.666666667\n",
      "29.0 11.1333333333\n"
     ]
    }
   ],
   "source": [
    "stream = deque(range(1,16), 15)\n",
    "D_prev = np.var(stream)\n",
    "X_0 = stream[0]\n",
    "Mean_prev = np.mean(stream)\n",
    "print(stream)\n",
    "for i in range(16, 25):\n",
    "    stream.append(i*2)\n",
    "    print(stream)\n",
    "    Mean_curr = np.mean(stream)\n",
    "    Mean_calc = Mean_prev + (stream[-1] - X_0) / len(stream)\n",
    "    X_n = stream[-1]\n",
    "    D_curr = np.var(stream)\n",
    "    D_calc = D_prev + (X_n - X_0)*(X_n + X_0 - Mean_prev - Mean_curr)\n",
    "    print(D_curr, D_calc)\n",
    "    print(Mean_curr, Mean_calc)"
   ]
  },
  {
   "cell_type": "code",
   "execution_count": null,
   "metadata": {
    "collapsed": true
   },
   "outputs": [],
   "source": [
    "summa = np.sum(window)\n",
    "Decimal(summa)/Decimal(len(window))\n",
    "    "
   ]
  },
  {
   "cell_type": "code",
   "execution_count": 133,
   "metadata": {},
   "outputs": [],
   "source": [
    "?list.p"
   ]
  },
  {
   "cell_type": "code",
   "execution_count": 45,
   "metadata": {},
   "outputs": [
    {
     "data": {
      "text/plain": [
       "[(503.78899999999999, 84541.220478999996),\n",
       " (504.803, 84550.759999999995),\n",
       " (505.81599999999997, 84561.275999999998),\n",
       " (506.82999999999998, 84570.760999999999)]"
      ]
     },
     "execution_count": 45,
     "metadata": {},
     "output_type": "execute_result"
    }
   ],
   "source": [
    "st = MV_custom(easy_stream(), 1000)\n",
    "stats = []\n",
    "mean_stats =[]\n",
    "count = 0\n",
    "for i in range(0,4):\n",
    "    stats.append(next(st))\n",
    "    count +=1\n",
    "    mean\n",
    "\n",
    "stats"
   ]
  },
  {
   "cell_type": "code",
   "execution_count": 77,
   "metadata": {},
   "outputs": [
    {
     "name": "stdout",
     "output_type": "stream",
     "text": [
      "153.8850000000000015631940187\n",
      "<class 'decimal.Decimal'>\n"
     ]
    }
   ],
   "source": [
    "st = [23.34, 34.675, 89.87]\n",
    "summ = 0\n",
    "count = 0\n",
    "for i in st:\n",
    "    count += 1\n",
    "    summ += Decimal((i + 2))\n",
    "print(summ)\n",
    "print(type(summ))"
   ]
  },
  {
   "cell_type": "code",
   "execution_count": 275,
   "metadata": {},
   "outputs": [
    {
     "data": {
      "text/plain": [
       "['__add__',\n",
       " '__bool__',\n",
       " '__class__',\n",
       " '__contains__',\n",
       " '__copy__',\n",
       " '__delattr__',\n",
       " '__delitem__',\n",
       " '__dir__',\n",
       " '__doc__',\n",
       " '__eq__',\n",
       " '__format__',\n",
       " '__ge__',\n",
       " '__getattribute__',\n",
       " '__getitem__',\n",
       " '__gt__',\n",
       " '__hash__',\n",
       " '__iadd__',\n",
       " '__imul__',\n",
       " '__init__',\n",
       " '__init_subclass__',\n",
       " '__iter__',\n",
       " '__le__',\n",
       " '__len__',\n",
       " '__lt__',\n",
       " '__mul__',\n",
       " '__ne__',\n",
       " '__new__',\n",
       " '__reduce__',\n",
       " '__reduce_ex__',\n",
       " '__repr__',\n",
       " '__reversed__',\n",
       " '__rmul__',\n",
       " '__setattr__',\n",
       " '__setitem__',\n",
       " '__sizeof__',\n",
       " '__str__',\n",
       " '__subclasshook__',\n",
       " 'append',\n",
       " 'appendleft',\n",
       " 'clear',\n",
       " 'copy',\n",
       " 'count',\n",
       " 'extend',\n",
       " 'extendleft',\n",
       " 'index',\n",
       " 'insert',\n",
       " 'maxlen',\n",
       " 'pop',\n",
       " 'popleft',\n",
       " 'remove',\n",
       " 'reverse',\n",
       " 'rotate']"
      ]
     },
     "execution_count": 275,
     "metadata": {},
     "output_type": "execute_result"
    }
   ],
   "source": [
    "dir(deque)"
   ]
  },
  {
   "cell_type": "code",
   "execution_count": 293,
   "metadata": {
    "collapsed": true
   },
   "outputs": [],
   "source": [
    "?deque.append"
   ]
  },
  {
   "cell_type": "code",
   "execution_count": null,
   "metadata": {
    "collapsed": true
   },
   "outputs": [],
   "source": []
  }
 ],
 "metadata": {
  "kernelspec": {
   "display_name": "Python 3",
   "language": "python",
   "name": "python3"
  },
  "language_info": {
   "codemirror_mode": {
    "name": "ipython",
    "version": 3
   },
   "file_extension": ".py",
   "mimetype": "text/x-python",
   "name": "python",
   "nbconvert_exporter": "python",
   "pygments_lexer": "ipython3",
   "version": "3.6.3"
  }
 },
 "nbformat": 4,
 "nbformat_minor": 1
}
